{
 "cells": [
  {
   "cell_type": "code",
   "execution_count": 15,
   "id": "3024b2da",
   "metadata": {
    "scrolled": true
   },
   "outputs": [
    {
     "name": "stdout",
     "output_type": "stream",
     "text": [
      "Collecting oandapyV20\n",
      "  Downloading oandapyV20-0.7.2.tar.gz (51 kB)\n",
      "     ---------------------------------------- 0.0/51.6 kB ? eta -:--:--\n",
      "     ---------------------------------------- 51.6/51.6 kB 2.8 MB/s eta 0:00:00\n",
      "  Preparing metadata (setup.py): started\n",
      "  Preparing metadata (setup.py): finished with status 'done'\n",
      "Requirement already satisfied: requests in c:\\users\\lim otto\\anaconda3\\lib\\site-packages (2.31.0)\n",
      "Requirement already satisfied: charset-normalizer<4,>=2 in c:\\users\\lim otto\\anaconda3\\lib\\site-packages (from requests) (2.0.4)\n",
      "Requirement already satisfied: idna<4,>=2.5 in c:\\users\\lim otto\\anaconda3\\lib\\site-packages (from requests) (3.4)\n",
      "Requirement already satisfied: urllib3<3,>=1.21.1 in c:\\users\\lim otto\\anaconda3\\lib\\site-packages (from requests) (1.26.16)\n",
      "Requirement already satisfied: certifi>=2017.4.17 in c:\\users\\lim otto\\anaconda3\\lib\\site-packages (from requests) (2023.7.22)\n",
      "Building wheels for collected packages: oandapyV20\n",
      "  Building wheel for oandapyV20 (setup.py): started\n",
      "  Building wheel for oandapyV20 (setup.py): finished with status 'done'\n",
      "  Created wheel for oandapyV20: filename=oandapyV20-0.7.2-py3-none-any.whl size=69849 sha256=64168b786b2dae62ced2cb823c340a1558a410bae442b44ea44af97525966acb\n",
      "  Stored in directory: c:\\users\\lim otto\\appdata\\local\\pip\\cache\\wheels\\d7\\4f\\5c\\9bfd8c96f1a36dccb743e81d8718ccde66454d9cda2427262e\n",
      "Successfully built oandapyV20\n",
      "Installing collected packages: oandapyV20\n",
      "Successfully installed oandapyV20-0.7.2\n"
     ]
    }
   ],
   "source": [
    "!pip install oandapyV20 requests\n",
    "import requests\n",
    "import json\n",
    "import smtplib\n",
    "from email.mime.text import MIMEText\n",
    "from oandapyV20 import API\n",
    "from oandapyV20.exceptions import V20Error\n",
    "from oandapyV20.contrib.requests import MarketOrderRequest\n",
    "from datetime import datetime, timedelta"
   ]
  },
  {
   "cell_type": "code",
   "execution_count": null,
   "id": "b1941488",
   "metadata": {},
   "outputs": [],
   "source": []
  },
  {
   "cell_type": "code",
   "execution_count": 16,
   "id": "06dc158c",
   "metadata": {},
   "outputs": [],
   "source": [
    "# OANDA API credentials and practice account details\n",
    "account_id = \"your_account_id\"\n",
    "api_key = \"your_api_key\"\n",
    "base_url = \"https://api-fxpractice.oanda.com\"  #replace with live URL for a live account"
   ]
  },
  {
   "cell_type": "code",
   "execution_count": 17,
   "id": "15517f67",
   "metadata": {},
   "outputs": [],
   "source": [
    "# Email configuration for automated email notification \n",
    "email_address = \"limotto0127@gmail.com\"\n",
    "email_password = \"xxxxxxxx\""
   ]
  },
  {
   "cell_type": "code",
   "execution_count": 18,
   "id": "35fa1bdb",
   "metadata": {},
   "outputs": [],
   "source": [
    "# Function to authenticate with the OANDA API\n",
    "def authenticate():\n",
    "    return API(access_token=api_key, environment=\"practice\", request_params={'account_id': account_id})"
   ]
  },
  {
   "cell_type": "code",
   "execution_count": 19,
   "id": "031a57d6",
   "metadata": {},
   "outputs": [],
   "source": [
    "# Function to get historical candlestick data\n",
    "def get_historical_data(instrument, granularity, count=10):\n",
    "    params = {\n",
    "        \"count\": count,\n",
    "        \"granularity\": granularity\n",
    "    }\n",
    "    endpoint = f\"/v3/instruments/{instrument}/candles\"\n",
    "    api = authenticate()\n",
    "    response = api.request(endpoint, params=params)\n",
    "    return response"
   ]
  },
  {
   "cell_type": "code",
   "execution_count": 20,
   "id": "b625deaf",
   "metadata": {},
   "outputs": [],
   "source": [
    "# Function to place a market order\n",
    "def place_market_order(instrument, units):\n",
    "    data = MarketOrderRequest(instrument=instrument, units=units).data\n",
    "    endpoint = f\"/v3/accounts/{account_id}/orders\"\n",
    "    headers = {'Authorization': f'Bearer {api_key}', 'Content-Type': 'application/json'}\n",
    "    response = requests.post(f\"{base_url}{endpoint}\", headers=headers, data=json.dumps(data))\n",
    "    return response.json()"
   ]
  },
  {
   "cell_type": "code",
   "execution_count": 21,
   "id": "e1dfe7ae",
   "metadata": {},
   "outputs": [],
   "source": [
    "# Function to send an email\n",
    "def send_email(subject, body):\n",
    "    try:\n",
    "        server = smtplib.SMTP('smtp.gmail.com', 587)\n",
    "        server.starttls()\n",
    "        server.login(email_address, email_password)\n",
    "\n",
    "        msg = MIMEText(body)\n",
    "        msg['Subject'] = subject\n",
    "        msg['From'] = email_address\n",
    "        msg['To'] = email_address\n",
    "\n",
    "        server.sendmail(email_address, email_address, msg.as_string())\n",
    "        server.quit()\n",
    "    except Exception as e:\n",
    "        print(f\"Error sending email: {e}\")"
   ]
  },
  {
   "cell_type": "code",
   "execution_count": 14,
   "id": "27d013cc",
   "metadata": {},
   "outputs": [
    {
     "ename": "NameError",
     "evalue": "name 'API' is not defined",
     "output_type": "error",
     "traceback": [
      "\u001b[1;31m---------------------------------------------------------------------------\u001b[0m",
      "\u001b[1;31mNameError\u001b[0m                                 Traceback (most recent call last)",
      "Cell \u001b[1;32mIn[14], line 28\u001b[0m\n\u001b[0;32m     25\u001b[0m         \u001b[38;5;28mprint\u001b[39m(\u001b[38;5;124m\"\u001b[39m\u001b[38;5;124mNo Trade Signal\u001b[39m\u001b[38;5;124m\"\u001b[39m)\n\u001b[0;32m     27\u001b[0m \u001b[38;5;28;01mif\u001b[39;00m \u001b[38;5;18m__name__\u001b[39m \u001b[38;5;241m==\u001b[39m \u001b[38;5;124m\"\u001b[39m\u001b[38;5;124m__main__\u001b[39m\u001b[38;5;124m\"\u001b[39m:\n\u001b[1;32m---> 28\u001b[0m     main()\n",
      "Cell \u001b[1;32mIn[14], line 5\u001b[0m, in \u001b[0;36mmain\u001b[1;34m()\u001b[0m\n\u001b[0;32m      3\u001b[0m instrument \u001b[38;5;241m=\u001b[39m \u001b[38;5;124m\"\u001b[39m\u001b[38;5;124mEUR_USD\u001b[39m\u001b[38;5;124m\"\u001b[39m\n\u001b[0;32m      4\u001b[0m granularity \u001b[38;5;241m=\u001b[39m \u001b[38;5;124m\"\u001b[39m\u001b[38;5;124mH4\u001b[39m\u001b[38;5;124m\"\u001b[39m\n\u001b[1;32m----> 5\u001b[0m historical_data \u001b[38;5;241m=\u001b[39m get_historical_data(instrument, granularity, count\u001b[38;5;241m=\u001b[39m\u001b[38;5;241m10\u001b[39m)\n\u001b[0;32m      7\u001b[0m \u001b[38;5;66;03m# Analyze the historical data and implement your trading strategy here\u001b[39;00m\n\u001b[0;32m      8\u001b[0m \u001b[38;5;66;03m# For simplicity, let's assume a basic strategy of buying if the last candle closes higher than the previous candle\u001b[39;00m\n\u001b[0;32m     10\u001b[0m \u001b[38;5;28;01mif\u001b[39;00m \u001b[38;5;28mfloat\u001b[39m(historical_data[\u001b[38;5;124m'\u001b[39m\u001b[38;5;124mcandles\u001b[39m\u001b[38;5;124m'\u001b[39m][\u001b[38;5;241m-\u001b[39m\u001b[38;5;241m1\u001b[39m][\u001b[38;5;124m'\u001b[39m\u001b[38;5;124mmid\u001b[39m\u001b[38;5;124m'\u001b[39m][\u001b[38;5;124m'\u001b[39m\u001b[38;5;124mc\u001b[39m\u001b[38;5;124m'\u001b[39m]) \u001b[38;5;241m>\u001b[39m \u001b[38;5;28mfloat\u001b[39m(historical_data[\u001b[38;5;124m'\u001b[39m\u001b[38;5;124mcandles\u001b[39m\u001b[38;5;124m'\u001b[39m][\u001b[38;5;241m-\u001b[39m\u001b[38;5;241m2\u001b[39m][\u001b[38;5;124m'\u001b[39m\u001b[38;5;124mmid\u001b[39m\u001b[38;5;124m'\u001b[39m][\u001b[38;5;124m'\u001b[39m\u001b[38;5;124mc\u001b[39m\u001b[38;5;124m'\u001b[39m]):\n",
      "Cell \u001b[1;32mIn[5], line 8\u001b[0m, in \u001b[0;36mget_historical_data\u001b[1;34m(instrument, granularity, count)\u001b[0m\n\u001b[0;32m      3\u001b[0m params \u001b[38;5;241m=\u001b[39m {\n\u001b[0;32m      4\u001b[0m     \u001b[38;5;124m\"\u001b[39m\u001b[38;5;124mcount\u001b[39m\u001b[38;5;124m\"\u001b[39m: count,\n\u001b[0;32m      5\u001b[0m     \u001b[38;5;124m\"\u001b[39m\u001b[38;5;124mgranularity\u001b[39m\u001b[38;5;124m\"\u001b[39m: granularity\n\u001b[0;32m      6\u001b[0m }\n\u001b[0;32m      7\u001b[0m endpoint \u001b[38;5;241m=\u001b[39m \u001b[38;5;124mf\u001b[39m\u001b[38;5;124m\"\u001b[39m\u001b[38;5;124m/v3/instruments/\u001b[39m\u001b[38;5;132;01m{\u001b[39;00minstrument\u001b[38;5;132;01m}\u001b[39;00m\u001b[38;5;124m/candles\u001b[39m\u001b[38;5;124m\"\u001b[39m\n\u001b[1;32m----> 8\u001b[0m api \u001b[38;5;241m=\u001b[39m authenticate()\n\u001b[0;32m      9\u001b[0m response \u001b[38;5;241m=\u001b[39m api\u001b[38;5;241m.\u001b[39mrequest(endpoint, params\u001b[38;5;241m=\u001b[39mparams)\n\u001b[0;32m     10\u001b[0m \u001b[38;5;28;01mreturn\u001b[39;00m response\n",
      "Cell \u001b[1;32mIn[4], line 3\u001b[0m, in \u001b[0;36mauthenticate\u001b[1;34m()\u001b[0m\n\u001b[0;32m      2\u001b[0m \u001b[38;5;28;01mdef\u001b[39;00m \u001b[38;5;21mauthenticate\u001b[39m():\n\u001b[1;32m----> 3\u001b[0m     \u001b[38;5;28;01mreturn\u001b[39;00m API(access_token\u001b[38;5;241m=\u001b[39mapi_key, environment\u001b[38;5;241m=\u001b[39m\u001b[38;5;124m\"\u001b[39m\u001b[38;5;124mpractice\u001b[39m\u001b[38;5;124m\"\u001b[39m, request_params\u001b[38;5;241m=\u001b[39m{\u001b[38;5;124m'\u001b[39m\u001b[38;5;124maccount_id\u001b[39m\u001b[38;5;124m'\u001b[39m: account_id})\n",
      "\u001b[1;31mNameError\u001b[0m: name 'API' is not defined"
     ]
    }
   ],
   "source": [
    "# Main function for pairing EURUSD based on stratergy H4 on Engulfing Pattern as triger to execute trade\n",
    "def main():\n",
    "    instrument = \"EUR_USD\"\n",
    "    granularity = \"H4\"\n",
    "    historical_data = get_historical_data(instrument, granularity, count=10)\n",
    "\n",
    "    # Analyze the historical data and implement your trading strategy here\n",
    "    # For simplicity, let's assume a basic strategy of buying if the last candle closes higher than the previous candle\n",
    "\n",
    "    if float(historical_data['candles'][-1]['mid']['c']) > float(historical_data['candles'][-2]['mid']['c']):\n",
    "        print(\"Executing Buy Order\")\n",
    "        # Calculate take profit and stop loss based on the 2:1 ratio\n",
    "        current_price = float(historical_data['candles'][-1]['mid']['c'])\n",
    "        take_profit = current_price + 2 * (current_price - float(historical_data['candles'][-2]['mid']['c']))\n",
    "        stop_loss = current_price - (current_price - float(historical_data['candles'][-2]['mid']['c']))\n",
    "           # Adjust the units parameter based on your risk management strategy\n",
    "        response = place_market_order(instrument, units=1000, take_profit=take_profit, stop_loss=stop_loss)\n",
    "        print(response)\n",
    "\n",
    "        # Send an email notification\n",
    "        subject = \"Trade Placed\"\n",
    "        body = \"A trade has been placed based on the trading strategy.\"\n",
    "        send_email(subject, body)\n",
    "    else:\n",
    "        print(\"No Trade Signal\")\n",
    "\n",
    "if __name__ == \"__main__\":\n",
    "    main()\n"
   ]
  },
  {
   "cell_type": "code",
   "execution_count": null,
   "id": "788e1d44",
   "metadata": {},
   "outputs": [],
   "source": []
  },
  {
   "cell_type": "code",
   "execution_count": null,
   "id": "64affd57",
   "metadata": {},
   "outputs": [],
   "source": []
  }
 ],
 "metadata": {
  "kernelspec": {
   "display_name": "Python 3 (ipykernel)",
   "language": "python",
   "name": "python3"
  },
  "language_info": {
   "codemirror_mode": {
    "name": "ipython",
    "version": 3
   },
   "file_extension": ".py",
   "mimetype": "text/x-python",
   "name": "python",
   "nbconvert_exporter": "python",
   "pygments_lexer": "ipython3",
   "version": "3.11.4"
  }
 },
 "nbformat": 4,
 "nbformat_minor": 5
}
